{
 "cells": [
  {
   "cell_type": "code",
   "execution_count": 1,
   "id": "12b51e33",
   "metadata": {},
   "outputs": [],
   "source": [
    "import json\n",
    "\n",
    "\n",
    "def load_json_file(file_path):\n",
    "    \"\"\"\n",
    "    Loads a JSON file into a Python dictionary or list.\n",
    "\n",
    "    Args:\n",
    "        file_path (str): The path to the JSON file.\n",
    "\n",
    "    Returns:\n",
    "        dict or list: The Python object representing the JSON data,\n",
    "                      or None if an error occurs.\n",
    "    \"\"\"\n",
    "    with open(file_path, \"r\") as f:\n",
    "        data = json.load(f)\n",
    "    return data\n",
    "\n",
    "\n",
    "file_path = \"out.json\"\n",
    "json_data = load_json_file(file_path)"
   ]
  },
  {
   "cell_type": "code",
   "execution_count": 9,
   "id": "0b87659d",
   "metadata": {},
   "outputs": [
    {
     "name": "stdout",
     "output_type": "stream",
     "text": [
      "508\n"
     ]
    }
   ],
   "source": [
    "theorems = json_data.get(\"theorems\", [])\n",
    "print(len(theorems))"
   ]
  },
  {
   "cell_type": "code",
   "execution_count": 10,
   "id": "e825622f",
   "metadata": {},
   "outputs": [],
   "source": [
    "theorem_count = 0\n",
    "lemma_count = 0\n",
    "fact_count = 0\n",
    "for theorem in theorems:\n",
    "    if theorem.get(\"type\", \"\") == \"Theorem\":\n",
    "        theorem_count += 1\n",
    "    elif theorem.get(\"type\", \"\") == \"Lemma\":\n",
    "        lemma_count += 1\n",
    "    elif theorem.get(\"type\", \"\") == \"Fact\":\n",
    "        fact_count += 1\n",
    "    else:\n",
    "        print(f\"Unknown theorem type: {theorem.get('type', '')}\")"
   ]
  },
  {
   "cell_type": "code",
   "execution_count": 11,
   "id": "c054f6cd",
   "metadata": {},
   "outputs": [
    {
     "name": "stdout",
     "output_type": "stream",
     "text": [
      "389\n",
      "115\n",
      "4\n"
     ]
    }
   ],
   "source": [
    "print(theorem_count)\n",
    "print(lemma_count)\n",
    "print(fact_count)"
   ]
  },
  {
   "cell_type": "code",
   "execution_count": 13,
   "id": "e36e4899",
   "metadata": {},
   "outputs": [
    {
     "name": "stdout",
     "output_type": "stream",
     "text": [
      "Max length: 55\n",
      "Min length: 1\n",
      "Avg length: 2.641732283464567\n"
     ]
    }
   ],
   "source": [
    "theorem_lengths = []\n",
    "for theorem in theorems:\n",
    "    theorem_line_length = len(theorem.get(\"statement\", \"\").split(\"\\n\"))\n",
    "    theorem_lengths.append(theorem_line_length)\n",
    "\n",
    "print(\"Max length:\", max(theorem_lengths))\n",
    "print(\"Min length:\", min(theorem_lengths))\n",
    "print(\"Avg length:\", sum(theorem_lengths) / len(theorem_lengths))"
   ]
  },
  {
   "cell_type": "code",
   "execution_count": 14,
   "id": "92b1a906",
   "metadata": {},
   "outputs": [
    {
     "name": "stdout",
     "output_type": "stream",
     "text": [
      "Max length: 2729\n",
      "Min length: 24\n",
      "Avg length: 887.4074803149606\n"
     ]
    }
   ],
   "source": [
    "theorem_lengths = []\n",
    "for theorem in theorems:\n",
    "    theorem_line_length = len(theorem.get(\"context\", \"\").split(\"\\n\"))\n",
    "    theorem_lengths.append(theorem_line_length)\n",
    "\n",
    "print(\"Max length:\", max(theorem_lengths))\n",
    "print(\"Min length:\", min(theorem_lengths))\n",
    "print(\"Avg length:\", sum(theorem_lengths) / len(theorem_lengths))"
   ]
  },
  {
   "cell_type": "code",
   "execution_count": null,
   "id": "4a0117b3",
   "metadata": {},
   "outputs": [],
   "source": []
  }
 ],
 "metadata": {
  "kernelspec": {
   "display_name": "venv",
   "language": "python",
   "name": "python3"
  },
  "language_info": {
   "codemirror_mode": {
    "name": "ipython",
    "version": 3
   },
   "file_extension": ".py",
   "mimetype": "text/x-python",
   "name": "python",
   "nbconvert_exporter": "python",
   "pygments_lexer": "ipython3",
   "version": "3.12.3"
  }
 },
 "nbformat": 4,
 "nbformat_minor": 5
}
